{
  "cells": [
    {
      "cell_type": "code",
      "source": [
        "#Random Password Generator\n",
        "import random\n",
        "letters = ['a', 'b', 'c', 'd', 'e', 'f', 'g', 'h', 'i', 'j', 'k', 'l', 'm', 'n', 'o', 'p', 'q', 'r', 's', 't', 'u', 'v', 'w', 'x', 'y', 'z', 'A', 'B', 'C', 'D', 'E', 'F', 'G', 'H', 'I', 'J', 'K', 'L', 'M', 'N', 'O', 'P', 'Q', 'R', 'S', 'T', 'U', 'V', 'W', 'X', 'Y', 'Z']\n",
        "numbers = ['0', '1', '2', '3', '4', '5', '6', '7', '8', '9']\n",
        "symbols = ['@','!', '#', '$', '%', '&', '(', ')', '*', '+']\n",
        "\n",
        "print(\"Welcome to the  Random Password Generator!\")\n",
        "# Take inputs from the user\n",
        "nr_letters= int(input(\"How many letters would you like in your password?\\n\"))\n",
        "nr_symbols = int(input(\"How many symbols would you like?\\n\"))\n",
        "nr_numbers = int(input(\"How many numbers would you like?\\n\"))\n",
        "\n",
        "password_list = []\n",
        "for i in range(0,nr_letters):\n",
        "    password_list.append(random.choice(letters))\n",
        "for i in range(0,nr_symbols):\n",
        "    password_list.append(random.choice(symbols))\n",
        "for i in range(0,nr_numbers):\n",
        "    password_list.append(random.choice(numbers))\n",
        "random.shuffle(password_list)\n",
        "password = \"\"\n",
        "for i in password_list:\n",
        "    password+=i\n",
        "print(\"\\n\")\n",
        "print(f\"Your password is :: {password}\")"
      ],
      "metadata": {
        "id": "LIZh3pwX3rCf"
      },
      "execution_count": null,
      "outputs": []
    }
  ],
  "metadata": {
    "colab": {
      "name": "Welcome To Colab",
      "provenance": []
    },
    "kernelspec": {
      "display_name": "Python 3",
      "name": "python3"
    }
  },
  "nbformat": 4,
  "nbformat_minor": 0
}